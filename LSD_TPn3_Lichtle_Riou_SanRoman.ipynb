{
 "cells": [
  {
   "cell_type": "markdown",
   "metadata": {
    "colab_type": "text",
    "id": "FdWgLo2Zo2q_"
   },
   "source": [
    "##### Nathan Lichtlé - Alain Riou - Robin San Roman\n",
    "$%useful latex symbols$\n",
    "$\\newcommand{\\(}{\\left(}$\n",
    "$\\newcommand{\\)}{\\right)}$\n",
    "$\\newcommand{\\GG}{\\mathcal{G}}$\n",
    "$\\newcommand{\\HH}{\\mathcal{H}}$\n",
    "$\\newcommand{\\JJ}{\\mathbb{J}}$\n",
    "$\\newcommand{\\NN}{\\mathbb{N}}$\n",
    "$\\newcommand{\\RR}{\\mathbb{R}}$\n",
    "$\\newcommand{\\argmin}[1]{\\underset{#1}{\\arg \\min}\\;}$\n",
    "$\\newcommand{\\argmax}[1]{\\underset{#1}{\\arg \\max}\\;}$\n",
    "$\\newcommand{\\df}[2]{\\frac{\\partial #1}{\\partial #2}}$"
   ]
  },
  {
   "cell_type": "markdown",
   "metadata": {
    "colab_type": "text",
    "id": "8Mda8sobo2rO"
   },
   "source": [
    "# Image reconstruction in X-ray tomography"
   ]
  },
  {
   "cell_type": "code",
   "execution_count": 0,
   "metadata": {
    "colab": {},
    "colab_type": "code",
    "id": "twmhZKR6o2rZ"
   },
   "outputs": [],
   "source": [
    "# imports\n",
    "import matplotlib.pyplot as plt\n",
    "import numpy as np\n",
    "import scipy.sparse\n",
    "import scipy.sparse.linalg as linalg\n",
    "from scipy.io import loadmat\n",
    "import time\n",
    "\n",
    "plt.rcParams['figure.figsize'] = (5,5)"
   ]
  },
  {
   "cell_type": "markdown",
   "metadata": {
    "colab_type": "text",
    "id": "jdSLFgM0o2r6"
   },
   "source": [
    "## 1. X-ray tomography\n",
    "\n",
    "X-ray tomography reconstructs dense volumes of objects from a set of projections measured at different angles. The measurements $y \\in \\RR^M$ and the sought absorption image $\\bar{x} \\in \\RR^N$ obey the linear relation\n",
    "\n",
    "$$\\begin{equation}\n",
    "y = H\\bar{x} + w\n",
    "\\tag{1}\n",
    "\\end{equation}$$\n",
    "\n",
    "where $w \\in \\RR^M$ is the measurement noise, that we assume i.i.d. Gaussian with variance $\\sigma^2$. The tomography matrix $H \\in \\RR^{M \\times N}$ is sparse and encodes the geometry of the measurements. Here, we will focus on the case when H models parallel projections of a 2-D object $\\bar{x}$. Tomography measures are acquired at fixed and regularly sampled rotational positions between the sample and the detector so that $H_{m,n}$ models the intersection length between the $m$th light-ray and the $n$th pixel. If $N_\\theta$ is the number of different angular positions of the detector in Fig. 1 and $L$ the linear size of the detector, the number of measurements $M = L \\times N_\\theta$. In practice, the angular positions are regularly distributed on $[0, \\pi)$.\n",
    "\n",
    "<img src=\"TP3_fig.png\" alt=\"Drawing\" style=\"width: 400px;\"/>\n",
    "<center>Figure 1 – Considered tomographic acquisition model<center/>"
   ]
  },
  {
   "cell_type": "markdown",
   "metadata": {
    "colab_type": "text",
    "id": "vNIvyIDved3d"
   },
   "source": [
    "Traditional reconstruction methods such as the Filtered Back-Projection require the linear system $(1)$ to be sufficiently determined for good results, i.e., $N_\\theta \\sim L$.\n",
    "\n",
    "However, several applications could benefit from a smaller number of projections, either in order to reduce the total dose for medical applications, or to reduce the total acquisition time for in-situ experiments where the sample is evolving. Therefore, more sophisticated reconstruction approaches must be developed in order to overcome the under-determinacy of the problem and to make it robust to the presence of noise in the measurements."
   ]
  },
  {
   "cell_type": "markdown",
   "metadata": {
    "colab_type": "text",
    "id": "2KxNttvDo2sC"
   },
   "source": [
    "1. Download the projection matrix $H$ and the image $\\bar{x}$ available on the website. Use `loadmat` from `scipy.io` in Python to load the arrays, note that $H$ is stored as a sparse matrix."
   ]
  },
  {
   "cell_type": "code",
   "execution_count": 0,
   "metadata": {
    "colab": {
     "base_uri": "https://localhost:8080/",
     "height": 364
    },
    "colab_type": "code",
    "id": "FK_qGrH8o2sW",
    "outputId": "40a9a6a5-6207-4d80-c16d-24f229792872"
   },
   "outputs": [
    {
     "name": "stdout",
     "output_type": "stream",
     "text": [
      "--2019-12-27 01:43:13--  http://www-syscom.univ-mlv.fr/~chouzeno/ECP/Slides/data.zip\n",
      "Resolving www-syscom.univ-mlv.fr (www-syscom.univ-mlv.fr)... 193.55.63.149\n",
      "Connecting to www-syscom.univ-mlv.fr (www-syscom.univ-mlv.fr)|193.55.63.149|:80... connected.\n",
      "HTTP request sent, awaiting response... 401 Unauthorized\n",
      "Authentication selected: Basic realm=\"Acces Restreint\"\n",
      "Reusing existing connection to www-syscom.univ-mlv.fr:80.\n",
      "HTTP request sent, awaiting response... 200 OK\n",
      "Length: 28966183 (28M) [application/zip]\n",
      "Saving to: ‘data.zip’\n",
      "\n",
      "\r",
      "data.zip              0%[                    ]       0  --.-KB/s               \r",
      "data.zip             50%[=========>          ]  14.02M  70.1MB/s               \r",
      "data.zip            100%[===================>]  27.62M  85.9MB/s    in 0.3s    \n",
      "\n",
      "2019-12-27 01:43:14 (85.9 MB/s) - ‘data.zip’ saved [28966183/28966183]\n",
      "\n",
      "Archive:  data.zip\n",
      "   creating: data/\n",
      "  inflating: data/G.mat              \n",
      "  inflating: data/H.mat              \n",
      "  inflating: data/x.mat              \n",
      "Done.\n"
     ]
    }
   ],
   "source": [
    "!wget -nc --user ECP --password Optim http://www-syscom.univ-mlv.fr/~chouzeno/ECP/Slides/data.zip\n",
    "!unzip -n data.zip\n",
    "\n",
    "H = loadmat('data/H.mat')['H']\n",
    "xbar = loadmat('data/x.mat')['x'].reshape(-1)\n",
    "print('Done.')"
   ]
  },
  {
   "cell_type": "markdown",
   "metadata": {
    "colab_type": "text",
    "id": "5hJszugco2st"
   },
   "source": [
    "2. Construct $y$, according to model $(1)$, using $\\sigma = 1$."
   ]
  },
  {
   "cell_type": "code",
   "execution_count": 0,
   "metadata": {
    "colab": {},
    "colab_type": "code",
    "id": "gqOJtdyvo2s1"
   },
   "outputs": [],
   "source": [
    "M, N = H.shape\n",
    "threshold = np.sqrt(N)*1e-4 # see part 3.6\n",
    "w = np.random.normal(0,1,M)\n",
    "y = H @ xbar + w"
   ]
  },
  {
   "cell_type": "markdown",
   "metadata": {
    "colab_type": "text",
    "id": "vSI4Q4eqo2tJ"
   },
   "source": [
    "3. Here, $N = 90 \\times 90$ pixels and $M = 90 \\times 180$ measurements. Display a 2D version of $\\bar{x}$ and a 2D version of $y$, also known as sinogram. To do so, in Matlab, use the `reshape` function; in Python, use the `reshape` method with option `order=’F’`."
   ]
  },
  {
   "cell_type": "code",
   "execution_count": 0,
   "metadata": {
    "colab": {
     "base_uri": "https://localhost:8080/",
     "height": 193
    },
    "colab_type": "code",
    "id": "8jghAPXeo2tS",
    "outputId": "16f12c42-237e-4f13-8045-88f0e0c535e9"
   },
   "outputs": [
    {
     "data": {
      "image/png": "[encoded data removed]",
      "text/plain": [
       "<Figure size 360x720 with 2 Axes>"
      ]
     },
     "metadata": {
      "tags": []
     },
     "output_type": "display_data"
    }
   ],
   "source": [
    "plt.figure(figsize=(5,10))\n",
    "plt.subplot(1,2,1)\n",
    "plt.imshow(xbar.reshape(90,90, order='F'))\n",
    "plt.title('Original image $\\\\bar{x}$')\n",
    "plt.subplot(1,2,2)\n",
    "plt.imshow(y.reshape(90,180, order='F'))\n",
    "plt.title('Sinogram $y$')\n",
    "plt.show()"
   ]
  },
  {
   "cell_type": "markdown",
   "metadata": {
    "colab_type": "text",
    "id": "gV-27EOFo2tj"
   },
   "source": [
    "## 2. Optimization problem\n",
    "\n",
    "An efficient strategy to address the reconstruction problem is to define $x$ as a minimizer of an appropriate cost function $f$. More specifically, we focus on the following penalized least-squares criterion:\n",
    "\n",
    "$$\\begin{equation}\n",
    "\\forall x \\in \\RR^N, \\ f(x) = \\frac{1}{2} \\|Hx - y \\|^2 + \\lambda r(x)\n",
    "\\tag{2}\n",
    "\\end{equation}$$\n",
    "\n",
    "where $r$ is a regularization function incorporating *a priori* assumptions to guarantee the robustness of the solution with respect to noise. In order to promote images formed by smooth regions separated by sharp edges, we set\n",
    "\n",
    "$$\\begin{equation}\n",
    "\\forall x \\in \\RR^N, \\ r(x) = \\sum_{n=1}^{2N} \\psi \\( [Gx]^{(n)} \\)\n",
    "\\tag{3}\n",
    "\\end{equation}$$\n",
    "\n",
    "where $G \\in \\RR^{2N \\times N}$ is a sparse matrix such that $Gx \\in \\RR^{2N}$ is the concatenation of the horizontal and vertical gradients of the image, and $\\psi$ is a potential function defined\n",
    "as:\n",
    "\n",
    "$$\\begin{equation}\n",
    "\\psi(u) = \\sqrt{1 + u^2/\\delta^2}\n",
    "\\tag{4}\n",
    "\\end{equation}$$\n",
    "\n",
    "with some parameter $\\delta > 0$ aiming at guaranteeing the differentiability of $r$. In the following, we will set $(\\lambda, \\delta) = (0.13, 0.02)$.\n",
    "\n",
    "1. Download the gradient operator $G$ available in the website."
   ]
  },
  {
   "cell_type": "code",
   "execution_count": 0,
   "metadata": {
    "colab": {
     "base_uri": "https://localhost:8080/",
     "height": 86
    },
    "colab_type": "code",
    "id": "UYttECfxo2tp",
    "outputId": "28d56f77-8915-4e69-bbeb-d199f94d7080"
   },
   "outputs": [
    {
     "name": "stdout",
     "output_type": "stream",
     "text": [
      "File ‘data.zip’ already there; not retrieving.\n",
      "\n",
      "Archive:  data.zip\n",
      "Done.\n"
     ]
    }
   ],
   "source": [
    "!wget -nc --user ECP --password Optim http://www-syscom.univ-mlv.fr/~chouzeno/ECP/Slides/data.zip\n",
    "!unzip -n data.zip\n",
    "\n",
    "G = loadmat('data/G.mat')['G']\n",
    "print('Done.')"
   ]
  },
  {
   "cell_type": "markdown",
   "metadata": {
    "colab_type": "text",
    "id": "wUTOEI7oo2t6"
   },
   "source": [
    "2. Give the expression of the gradient $\\nabla f$ at some point $x \\in \\RR^N$. Create a function which gives as an output the gradient of $f$ at some input vector $x$."
   ]
  },
  {
   "cell_type": "markdown",
   "metadata": {
    "colab_type": "text",
    "id": "L9xqq6jko2uB"
   },
   "source": [
    "$$\\df{}{x} \\| Hx - y \\|^2 = 2 H^\\top \\( Hx - y \\)$$\n",
    "\n",
    "Moreover, for $n \\in \\{1, \\dots, 2N \\}$:\n",
    "$$\\begin{aligned}\n",
    "\\df{\\psi\\( [Gx]^{(n)} \\)}{x}\n",
    "&= \\df{\\psi \\([Gx]^{(n)} \\)}{[Gx]^{(n)}} \\df{[Gx]^{(n)}}{x} & \\text{using the chain rule} \\\\\n",
    "&= \\df{\\psi(u)}{u} \\df{g_n^\\top x}{x} & \\text{where $g_n^\\top$ denotes the $n$-th row of $G$} \\\\\n",
    "&= \\frac{[Gx]^{(n)}}{\\delta^2 \\psi \\( [Gx]^{(n)} \\)} g_n\n",
    "\\end{aligned}$$\n",
    "\n",
    "Hence, by linearity, for $x \\in \\RR^N$:\n",
    "$$\\begin{aligned}\n",
    "\\nabla f(x)\n",
    "&= H^\\top \\( Hx - y \\) + \\frac{\\lambda}{\\delta^2} \\( \\sum_{n=1}^{2N} \\frac{[Gx]^{(n)}}{\\psi \\( [Gx]^{(n)} \\) }\n",
    "g_n \\) \\\\\n",
    "&= H^\\top \\( Hx - y \\) + \\frac{\\lambda}{\\delta^2} G^\\top \\widetilde{g}(x)\n",
    "\\end{aligned}$$\n",
    "where $\\widetilde{g}^{(n)}(x) = \\frac{[Gx]^{(n)}}{\\psi \\( [Gx]^{(n)} \\) }$ for all $n \\in \\{1, \\dots, 2N \\}$."
   ]
  },
  {
   "cell_type": "markdown",
   "metadata": {
    "colab_type": "text",
    "id": "zxLEhfOEo2uG"
   },
   "source": [
    "3. Show that a Lipschitz constant of $\\nabla f$ is\n",
    "$$L = \\|H\\|^2 + \\(\\lambda / \\delta^2 \\) \\|G\\|^2$$\n",
    "Calculate it for the $(\\lambda, \\delta)$ values given above. Note that, in Matlab, one can use `normest` to evaluate the norm of a sparse matrix ; in Python, the function `scipy.sparse.linalg.svds` gives the singular values of a sparse matrix, the maximal singular value being the norm of the matrix."
   ]
  },
  {
   "cell_type": "markdown",
   "metadata": {
    "colab_type": "text",
    "id": "dmcqihq1o2uK"
   },
   "source": [
    "Let $x, x' \\in \\RR^N$.\n",
    "\n",
    "$$\\begin{aligned}\n",
    "\\left\\|H^\\top \\( Hx - y \\) - H^\\top \\( Hx' - y \\) \\right\\|\n",
    "&= \\left\\| H^\\top H (x - x') \\right\\| \\\\\n",
    "&\\leq \\left\\| H^\\top H \\right\\| \\left\\| x - x' \\right\\| \\\\\n",
    "&= \\|H\\|^2 \\|x - x'\\|\n",
    "\\end{aligned}$$\n",
    "\n",
    "For $n \\in \\{1, \\dots, 2N \\}$:\n",
    "$$\\begin{aligned}\n",
    "\\left\\| G^\\top \\widetilde{g}(x) - G^\\top \\widetilde{g}(x') \\right\\|\n",
    "&= \\left\\| G^\\top \\( \\widetilde{g}(x) - \\widetilde{g}(x') \\) \\right\\| \\\\\n",
    "&= \\left\\| G^\\top G \\( \\frac{x}{\\psi(Gx)} - \\frac{x'}{\\psi(Gx')} \\) \\right\\| \\\\\n",
    "&\\leq \\left\\| G^\\top G \\right\\| \\left\\| \\frac{x}{\\psi(Gx)} - \\frac{x'}{\\psi(Gx')} \\right\\| \\\\\n",
    "&\\leq \\|G\\|^2 \\|x - x'\\| \\quad \\text{ since } \\forall x, \\|\\psi(Gx) \\| \\leq 1\n",
    "\\end{aligned}$$\n",
    "\n",
    "Hence, by triangle inequality,\n",
    "$$\\begin{aligned}\n",
    "\\| \\nabla f(x) - \\nabla f(x') \\|\n",
    "&= \\left\\|H^\\top \\( Hx - y \\) - H^\\top \\( Hx' - y \\) + \\frac{\\lambda}{\\delta^2} \\(G^\\top \\widetilde{g}(x) - G^\\top \\widetilde{g}(x') \\) \\right\\| \\\\\n",
    "&\\leq \\left\\|H^\\top \\( Hx - y \\) - H^\\top \\( Hx' - y \\) \\right\\| + \\frac{\\lambda}{\\delta^2} \\left\\| G^\\top \\widetilde{g}(x) - G^\\top \\widetilde{g}(x') \\right\\| \\\\\n",
    "&\\leq \\( \\| H \\|^2 + \\frac{\\lambda}{\\delta^2} \\| G \\|^2 \\) \\|x - x' \\|\n",
    "\\end{aligned}$$\n",
    "i.e.\n",
    "$$L = \\|H\\|^2 + \\frac{\\lambda}{\\delta^2} \\|G\\|^2$$"
   ]
  },
  {
   "cell_type": "code",
   "execution_count": 36,
   "metadata": {
    "colab": {
     "base_uri": "https://localhost:8080/",
     "height": 34
    },
    "colab_type": "code",
    "id": "Y_fW_p9qo2uQ",
    "outputId": "a69c897d-b5b5-43ec-eddd-89f00d6334d5"
   },
   "outputs": [
    {
     "name": "stdout",
     "output_type": "stream",
     "text": [
      "L = 18092.77327686482\n"
     ]
    }
   ],
   "source": [
    "lbda, delta = 0.13, 0.02\n",
    "\n",
    "_, H_eigvals, _ = linalg.svds(H)\n",
    "_, G_eigvals, _ = linalg.svds(G)\n",
    "\n",
    "print('L =', H_eigvals[-1]**2 + lbda/(delta**2)*G_eigvals[-1]**2)"
   ]
  },
  {
   "cell_type": "code",
   "execution_count": 0,
   "metadata": {
    "colab": {},
    "colab_type": "code",
    "id": "ymG2JYDTh3RQ"
   },
   "outputs": [],
   "source": [
    "# decorator to save convergence speed of algorithms\n",
    "def exc_time(func):\n",
    "    def wrapped(*args, **kwargs):\n",
    "        start = time.time()\n",
    "        res = func(*args, **kwargs)\n",
    "        d = time.time() - start\n",
    "        np.save(func.__name__+'_time.npy', d)\n",
    "        print('Time elapsed: {0:.0f}min {1:02.0f}s.'.format(*divmod(d, 60)))\n",
    "        return res\n",
    "    wrapped.__name__ = func.__name__\n",
    "    return wrapped"
   ]
  },
  {
   "cell_type": "markdown",
   "metadata": {
    "colab_type": "text",
    "id": "agcCCsWro2uf"
   },
   "source": [
    "## 3. Optimization algorithms\n",
    "\n",
    "### 3.1 Gradient descent algorithm\n",
    "\n",
    "1. Create $x_0 \\in \\RR^N$ a vector with all entries equal to 0. This will be our initialization for all tested algorithms."
   ]
  },
  {
   "cell_type": "code",
   "execution_count": 0,
   "metadata": {
    "colab": {},
    "colab_type": "code",
    "id": "r-uCTNpEo2uk"
   },
   "outputs": [],
   "source": [
    "x0 = np.zeros(N)"
   ]
  },
  {
   "cell_type": "markdown",
   "metadata": {
    "colab_type": "text",
    "id": "Jz2jyMaro2u2"
   },
   "source": [
    "2. Implement a gradient descent algorithm to minimize $f$."
   ]
  },
  {
   "cell_type": "code",
   "execution_count": 0,
   "metadata": {
    "colab": {},
    "colab_type": "code",
    "id": "1zAj03yRo2u8"
   },
   "outputs": [],
   "source": [
    "psi = lambda u: np.sqrt(1 + (u/delta)**2)\n",
    "\n",
    "def f(x):\n",
    "    norm = np.linalg.norm(H @ x - y)\n",
    "    return norm**2 / 2.0 + lbda * np.sum(psi(G @ x))\n",
    "\n",
    "def grad_f(x):\n",
    "    Gx = G @ x\n",
    "    grad = Gx / psi(Gx) @ G\n",
    "    return H.T @ (H @ x - y) + lbda/(delta**2) * grad\n",
    "\n",
    "@exc_time\n",
    "def GD(x0, f, grad_f, n_iters=int(1e5), threshold=threshold, lr=1e-4):\n",
    "    fx_lst = [f(x0)]\n",
    "    x = np.copy(x0)\n",
    "    for k in range(n_iters):\n",
    "        x -= lr * grad_f(x)\n",
    "        fx_lst.append(f(x))\n",
    "        norm_grad_f = np.linalg.norm(grad_f(x))\n",
    "        stopping = norm_grad_f <= threshold\n",
    "        if k % 200 == 0 or k == n_iters-1 or stopping:\n",
    "            print(\"iter {}:  \\tf(x) = {:.5f}\\t||∇f(x)|| = {:.5f}\".format(k + 1, f(x), norm_grad_f))\n",
    "        if stopping:\n",
    "            print(\"stopping criterion reached, stopping now\")\n",
    "            break\n",
    "    np.save('GD_values.npy', np.array(fx_lst))\n",
    "    return x"
   ]
  },
  {
   "cell_type": "code",
   "execution_count": 0,
   "metadata": {
    "colab": {
     "base_uri": "https://localhost:8080/",
     "height": 312
    },
    "colab_type": "code",
    "id": "tHC0ZBB4wjyF",
    "outputId": "5355e28d-dcb2-4e46-c27b-cd938d30945f"
   },
   "outputs": [
    {
     "name": "stdout",
     "output_type": "stream",
     "text": [
      "iter 1:  \tf(x) = 2151597.18781\t||∇f(x)|| = 247502.80814\n",
      "iter 201:  \tf(x) = 13002.66313\t||∇f(x)|| = 55.17148\n",
      "iter 401:  \tf(x) = 12983.10015\t||∇f(x)|| = 14.43905\n",
      "iter 601:  \tf(x) = 12981.38982\t||∇f(x)|| = 5.15706\n",
      "iter 801:  \tf(x) = 12981.13783\t||∇f(x)|| = 2.22708\n",
      "iter 1001:  \tf(x) = 12981.08631\t||∇f(x)|| = 1.06918\n",
      "iter 1201:  \tf(x) = 12981.07388\t||∇f(x)|| = 0.54135\n",
      "iter 1401:  \tf(x) = 12981.07060\t||∇f(x)|| = 0.28392\n",
      "iter 1601:  \tf(x) = 12981.06968\t||∇f(x)|| = 0.15316\n",
      "iter 1801:  \tf(x) = 12981.06940\t||∇f(x)|| = 0.08467\n",
      "iter 2001:  \tf(x) = 12981.06932\t||∇f(x)|| = 0.04785\n",
      "iter 2201:  \tf(x) = 12981.06929\t||∇f(x)|| = 0.02757\n",
      "iter 2401:  \tf(x) = 12981.06928\t||∇f(x)|| = 0.01617\n",
      "iter 2601:  \tf(x) = 12981.06928\t||∇f(x)|| = 0.00963\n",
      "iter 2628:  \tf(x) = 12981.06928\t||∇f(x)|| = 0.00899\n",
      "stopping criterion reached, stopping now\n",
      "Time elapsed: 1min 27s.\n"
     ]
    }
   ],
   "source": [
    "x_gd = GD(x0, f, grad_f)"
   ]
  },
  {
   "cell_type": "code",
   "execution_count": 0,
   "metadata": {
    "colab": {
     "base_uri": "https://localhost:8080/",
     "height": 322
    },
    "colab_type": "code",
    "id": "U6CFLdIlo2vL",
    "outputId": "06edc05f-1c03-4f59-eb46-17721fe97520"
   },
   "outputs": [
    {
     "data": {
      "image/png": "[encoded data removed]",
      "text/plain": [
       "<Figure size 360x360 with 1 Axes>"
      ]
     },
     "metadata": {
      "tags": []
     },
     "output_type": "display_data"
    }
   ],
   "source": [
    "plt.imshow(x_gd.reshape(90,90, order='F'))\n",
    "plt.show()"
   ]
  },
  {
   "cell_type": "markdown",
   "metadata": {
    "colab_type": "text",
    "id": "CWW0RfLFo2vb"
   },
   "source": [
    "### 3.2 MM quadratic algorithm\n",
    "\n",
    "1. Construct, for all $x \\in \\RR^N$, a quadratic majorant function of $f$ at $x$. Create a function which gives, as an output, the curvature $A(x)$ of the majorant function at an input vector x.\n",
    "Hint : in Matlab, use `spdiags` to create a sparse diagonal matrix; in Python, use `scipy.sparse.diags(d[:,0]).tocsc()` to create a sparse matrix from a diagonal vector $d \\in \\RR^{n \\times 1}$ using the compressed sparse column format. In addition, in Python, use the class `LinearOperator` from `scipy.sparse.linalg` to create the curvature operator."
   ]
  },
  {
   "cell_type": "code",
   "execution_count": 0,
   "metadata": {
    "colab": {},
    "colab_type": "code",
    "id": "nudPGObMo2vw"
   },
   "outputs": [],
   "source": [
    "HtH = H.T @ H\n",
    "coef = lbda / (delta ** 2)\n",
    "\n",
    "def A(x):\n",
    "    diag = scipy.sparse.diags(1 / psi(G @ x)).tocsc()\n",
    "\n",
    "    def curvature(v):\n",
    "        return HtH @ v + coef * (G.T @ (diag @ (G @ v)))\n",
    "\n",
    "    return linalg.LinearOperator((N, N), matvec=curvature, rmatvec=curvature)"
   ]
  },
  {
   "cell_type": "markdown",
   "metadata": {
    "colab_type": "text",
    "id": "OQO3JMeRo2v-"
   },
   "source": [
    "2. Deduce a MM quadratic algorithm to minimize $f$. Implement it.\n",
    "Hint : in Matlab use `pcg` to invert the majorant matrix at each iteration ; in Python, use `bicg` from `scipy.sparse.linalg`."
   ]
  },
  {
   "cell_type": "code",
   "execution_count": 0,
   "metadata": {
    "colab": {},
    "colab_type": "code",
    "id": "lSYGBVyQo2wC"
   },
   "outputs": [],
   "source": [
    "@exc_time\n",
    "def MMQ(x0, f, grad_f, A, n_iters=int(1e5), threshold=threshold, lr=1):\n",
    "    fx_lst = [f(x0)]\n",
    "    x = np.copy(x0)\n",
    "    for k in range(n_iters):\n",
    "        x -= lr * linalg.bicg(A(x), grad_f(x))[0]\n",
    "        fx_lst.append(f(x))\n",
    "        norm_grad_f = np.linalg.norm(grad_f(x))\n",
    "        stopping = norm_grad_f <= threshold\n",
    "        if k % 10 == 0 or k == n_iters-1 or stopping:\n",
    "            print(\"iter {}:  \\tf(x) = {:.5f}\\t||∇f(x)|| = {:.5f}\".format(k + 1, f(x), norm_grad_f))\n",
    "        if stopping:\n",
    "            print(\"stopping criterion reached, stopping now\")\n",
    "            break\n",
    "    np.save('MMQ_values.npy', np.array(fx_lst))\n",
    "    return x"
   ]
  },
  {
   "cell_type": "code",
   "execution_count": 0,
   "metadata": {
    "colab": {
     "base_uri": "https://localhost:8080/",
     "height": 191
    },
    "colab_type": "code",
    "id": "htWWFPl3CVaR",
    "outputId": "f6be1e64-349c-4b1e-c665-3800505aad1f"
   },
   "outputs": [
    {
     "name": "stdout",
     "output_type": "stream",
     "text": [
      "iter 1:  \tf(x) = 15685.89740\t||∇f(x)|| = 1256.40262\n",
      "iter 11:  \tf(x) = 12982.09937\t||∇f(x)|| = 12.54897\n",
      "iter 21:  \tf(x) = 12981.09846\t||∇f(x)|| = 1.75564\n",
      "iter 31:  \tf(x) = 12981.07116\t||∇f(x)|| = 0.40108\n",
      "iter 41:  \tf(x) = 12981.06945\t||∇f(x)|| = 0.11560\n",
      "iter 51:  \tf(x) = 12981.06930\t||∇f(x)|| = 0.03774\n",
      "iter 61:  \tf(x) = 12981.06928\t||∇f(x)|| = 0.01325\n",
      "iter 65:  \tf(x) = 12981.06928\t||∇f(x)|| = 0.00884\n",
      "stopping criterion reached, stopping now\n",
      "Time elapsed: 6min 53s.\n"
     ]
    }
   ],
   "source": [
    "x_mmq = MMQ(x0, f, grad_f, A)"
   ]
  },
  {
   "cell_type": "code",
   "execution_count": 0,
   "metadata": {
    "colab": {
     "base_uri": "https://localhost:8080/",
     "height": 322
    },
    "colab_type": "code",
    "id": "3HAzWPatCdor",
    "outputId": "3f74b90d-251a-4904-de13-63353ff36881"
   },
   "outputs": [
    {
     "data": {
      "image/png": "[encoded data removed]",
      "text/plain": [
       "<Figure size 360x360 with 1 Axes>"
      ]
     },
     "metadata": {
      "tags": []
     },
     "output_type": "display_data"
    }
   ],
   "source": [
    "plt.imshow(x_mmq.reshape(90,90, order='F'))\n",
    "plt.show()"
   ]
  },
  {
   "cell_type": "markdown",
   "metadata": {
    "colab_type": "text",
    "id": "HyCPdVhdo2wU"
   },
   "source": [
    "### 3.3 3MG algorithm\n",
    "\n",
    "The MM quadratic algorithm can be accelerated by using a subspace strategy. Here, we will focus on the so-called 3MG (MM Memory Gradient) approach which consists in defining the iterate $x_{k+1}$ as the minimizer of the quadratic majorant function at $x_k$ within a subspace spanned by the following directions:\n",
    "\n",
    "$$\\begin{equation}\n",
    "\\forall k \\in \\NN, \\ D_k = \\left[-\\nabla f(x_k) \\ | \\ x_k - x_{k-1} \\right]\n",
    "\\tag{5}\n",
    "\\end{equation}$$\n",
    "\n",
    "(with the convention $D_0 = −\\nabla f (x_0)$). Thus, an iterate of 3MG reads:\n",
    "\n",
    "$$\\begin{equation}\n",
    "\\forall k \\in \\NN, \\ x_{k+1} = x_k + D_k u_k\n",
    "\\tag{6}\n",
    "\\end{equation}$$\n",
    "\n",
    "with\n",
    "\n",
    "$$\\begin{equation}\n",
    "\\forall k \\in \\NN, \\ u_k = - \\( D_k^\\top A(x_k) D_k \\)^\\dagger \\(D_k^\\top \\nabla f (x_k) \\)\n",
    "\\tag{7}\n",
    "\\end{equation}$$\n",
    "\n",
    "where $A(x_k) \\in \\RR^{N \\times N}$ is the curvature of the majorant matrix at $x_k$ and $\\dagger$ denotes the pseudo-inverse operation."
   ]
  },
  {
   "cell_type": "markdown",
   "metadata": {
    "colab_type": "text",
    "id": "RfNNcagUo2wY"
   },
   "source": [
    "1. Implement the 3MG algorithm.\n",
    "Hint : use `pinv` in Matlab and `scipy.linalg.pinv` in Python to compute the pseudo-inverse. Given the size of the matrices, mind the order of matrix multiplications, e.g. when computing $D_k^\\top H^\\top H D_k$ do not compute $D_k^\\top \\( H^\\top H \\) D_k$ but $\\(HD_k \\)^\\top \\( HD_k \\)$."
   ]
  },
  {
   "cell_type": "code",
   "execution_count": 0,
   "metadata": {
    "colab": {},
    "colab_type": "code",
    "id": "w5Md0_JPo2wd"
   },
   "outputs": [],
   "source": [
    "@exc_time\n",
    "def MMMG(x0, f, grad_f, n_iters=int(1e5), threshold=threshold, lr=1):\n",
    "    fx_lst = [f(x0)]\n",
    "    x = np.copy(x0)\n",
    "    D = - grad_f(x)[:,np.newaxis]\n",
    "    xprev = np.copy(x)    \n",
    "    for k in range(n_iters):\n",
    "        grad = grad_f(x)\n",
    "        HD = H @ D\n",
    "        GD = G @ D\n",
    "        DAD = HD.T @ HD + coef * GD.T @ scipy.sparse.diags(1 / psi(G @ x)).tocsc() @ GD\n",
    "        # avoid dimensions errors on first iteration\n",
    "        if DAD.ndim == 0:\n",
    "            DAD = DAD.reshape(1,1)\n",
    "        u = -scipy.linalg.pinv(DAD) @ D.T @ grad\n",
    "        x += D @ u\n",
    "        fx_lst.append(f(x))\n",
    "        stopping = np.linalg.norm(grad) < threshold\n",
    "        if stopping or k % 100 == 0 or k == n_iters - 1:\n",
    "            print(\"iter {}:  \\tf(x) = {:.5f}\\t||∇f(x)|| = {:.5f}\".format(k + 1, f(x), np.linalg.norm(grad)))\n",
    "        if stopping:\n",
    "            print(\"stopping criterion reached, stopping now\")\n",
    "            break        \n",
    "        D = - np.vstack((grad, x - xprev)).T\n",
    "        xprev = np.copy(x)\n",
    "    np.save('MMMG_values.npy', np.array(fx_lst))\n",
    "    return x"
   ]
  },
  {
   "cell_type": "code",
   "execution_count": 0,
   "metadata": {
    "colab": {
     "base_uri": "https://localhost:8080/",
     "height": 173
    },
    "colab_type": "code",
    "id": "a3ed1bNoKsuE",
    "outputId": "15ab2258-e5c5-4952-ae1c-eb53d306ed01"
   },
   "outputs": [
    {
     "name": "stdout",
     "output_type": "stream",
     "text": [
      "iter 1:  \tf(x) = 264718.87082\t||∇f(x)|| = 449475.95781\n",
      "iter 101:  \tf(x) = 13052.53666\t||∇f(x)|| = 297.50736\n",
      "iter 201:  \tf(x) = 12982.45113\t||∇f(x)|| = 15.62415\n",
      "iter 301:  \tf(x) = 12981.07539\t||∇f(x)|| = 1.60068\n",
      "iter 401:  \tf(x) = 12981.06934\t||∇f(x)|| = 0.12020\n",
      "iter 501:  \tf(x) = 12981.06928\t||∇f(x)|| = 0.01809\n",
      "iter 536:  \tf(x) = 12981.06927\t||∇f(x)|| = 0.00858\n",
      "stopping criterion reached, stopping now\n",
      "Time elapsed: 0min 28s.\n"
     ]
    }
   ],
   "source": [
    "x_3mg = MMMG(x0, f, grad_f)"
   ]
  },
  {
   "cell_type": "code",
   "execution_count": 0,
   "metadata": {
    "colab": {
     "base_uri": "https://localhost:8080/",
     "height": 322
    },
    "colab_type": "code",
    "id": "WRapdX_8Ygoy",
    "outputId": "74e8e11f-7145-4303-c024-309f7981ab1f"
   },
   "outputs": [
    {
     "data": {
      "image/png": "[encoded data removed]",
      "text/plain": [
       "<Figure size 360x360 with 1 Axes>"
      ]
     },
     "metadata": {
      "tags": []
     },
     "output_type": "display_data"
    }
   ],
   "source": [
    "plt.imshow(x_3mg.reshape(90,90, order='F'))\n",
    "plt.show()"
   ]
  },
  {
   "cell_type": "markdown",
   "metadata": {
    "colab_type": "text",
    "id": "UW85JgGQo2wo"
   },
   "source": [
    "### 3.4 Block-coordinate MM quadratic algorithm\n",
    "\n",
    "*Arrays are indexed from index 0 in this notebook to be consistent with Python, whereas they are indexed from 1 in the original subject. Therefore, some formulas can be different.*\n",
    "\n",
    "Another acceleration strategy consists in applying a block alternation technique.\n",
    "The vector $x$ is divided into $J \\geq 1$ blocks, with size $1 \\leq N_j \\leq N$. At each iteration $k \\in \\NN$, a block index $j \\in \\{0, \\dots, J-1 \\}$ is chosen, and the corresponding components\n",
    "of $x$, denoted $x^{(j)}$, are updated, according to a MM quadratic rule. Here, we will assume that the blocks are selected in a cyclic manner, that is,\n",
    "\n",
    "$$\\begin{equation}\n",
    "\\forall k \\in \\NN, \\ j = k \\mod J\n",
    "\\tag{8}\n",
    "\\end{equation}$$\n",
    "\n",
    "For a given block index $j$, the corresponding pixel indexes are updated in the image:\n",
    "\n",
    "$$\\begin{equation}\n",
    "n \\in \\JJ_j = \\left\\{ j N_j, \\dots, (j+1) N_j - 1\\right\\}\n",
    "\\tag{9}\n",
    "\\end{equation}$$\n",
    "\n",
    "1. Create a function which gives, as an output, matrix $A_j(x) \\in \\RR^{N_j \\times N_j}$ containing only the lines and rows of $A(x)$ with indexes $\\JJ_j$."
   ]
  },
  {
   "cell_type": "code",
   "execution_count": 0,
   "metadata": {
    "colab": {},
    "colab_type": "code",
    "id": "Ngl7C6Bbo2wv"
   },
   "outputs": [],
   "source": [
    "def get_cols(A, j, Nj):\n",
    "    return A[...,j*Nj:(j+1)*Nj]\n",
    "\n",
    "def Aj(x, j, Nj):\n",
    "    Gj, Hj = get_cols(G, j, Nj), get_cols(H, j, Nj)\n",
    "    diag = scipy.sparse.diags(1 / psi(Gj @ x)).tocsc()\n",
    "\n",
    "    def curvature(v):\n",
    "        return Hj.T @ (Hj @ v) + coef * (Gj.T @ (diag @ (Gj @ v)))\n",
    "\n",
    "    return linalg.LinearOperator((Nj,Nj), matvec=curvature, rmatvec=curvature)"
   ]
  },
  {
   "cell_type": "markdown",
   "metadata": {
    "colab_type": "text",
    "id": "Yo8sUUH5o2w7"
   },
   "source": [
    "\n",
    "2. Deduce an implementation of a block coordinate MM quadratic algorithm for minimizing $f$. Test it for $N_j = N/K$ with $K \\in \\{1, 2, 3, 5, 6, 9\\}$."
   ]
  },
  {
   "cell_type": "code",
   "execution_count": 0,
   "metadata": {
    "colab": {},
    "colab_type": "code",
    "id": "a-KucJK8o2xB"
   },
   "outputs": [],
   "source": [
    "@exc_time\n",
    "def BMMQ(x0, f, grad_f, A, K, n_iters=int(1e5), threshold=threshold, lr=1):\n",
    "    Nj = N // K\n",
    "    fx_lst = [f(x0)]\n",
    "    x = np.copy(x0)\n",
    "    for k in range(n_iters):\n",
    "        j = k % K\n",
    "        xj, gradj = get_cols(x, j, Nj), get_cols(grad_f(x), j, Nj)\n",
    "        xj -= lr * linalg.bicg(A(xj, j, Nj), gradj)[0]\n",
    "        norm_grad_f = np.linalg.norm(grad_f(x))\n",
    "        fx_lst.append(f(x))\n",
    "        stopping = norm_grad_f <= threshold\n",
    "        if k % 50 == 0 or k == n_iters-1 or stopping:\n",
    "            print(\"iter {}:  \\tf(x) = {:.5f}\\t||∇f(x)||={:.5f}\".format(k + 1, f(x), norm_grad_f))\n",
    "        if stopping:\n",
    "            print(\"stopping criterion reached, stopping now\")\n",
    "            break\n",
    "    np.save('BMMQ_values.npy', np.array(fx_lst))\n",
    "    return x"
   ]
  },
  {
   "cell_type": "code",
   "execution_count": 0,
   "metadata": {
    "colab": {
     "base_uri": "https://localhost:8080/",
     "height": 1000
    },
    "colab_type": "code",
    "id": "ZCpD8mbe_4BZ",
    "outputId": "e84cbe2c-c508-43b8-ddd9-82ef09f088be"
   },
   "outputs": [
    {
     "name": "stdout",
     "output_type": "stream",
     "text": [
      "K = 2\n",
      "iter 1:  \tf(x) = 1658109.55078\t||∇f(x)||=153227.01269\n",
      "iter 51:  \tf(x) = 12981.10411\t||∇f(x)||=2.77710\n",
      "iter 101:  \tf(x) = 12981.06931\t||∇f(x)||=0.05359\n",
      "iter 135:  \tf(x) = 12981.06928\t||∇f(x)||=0.00877\n",
      "stopping criterion reached, stopping now\n",
      "Time elapsed: 0min 44s.\n",
      "\n",
      "K = 3\n",
      "iter 1:  \tf(x) = 3104930.36249\t||∇f(x)||=235946.30337\n",
      "iter 51:  \tf(x) = 12981.64424\t||∇f(x)||=20.44299\n",
      "iter 101:  \tf(x) = 12981.07054\t||∇f(x)||=0.33361\n",
      "iter 151:  \tf(x) = 12981.06930\t||∇f(x)||=0.04101\n",
      "iter 192:  \tf(x) = 12981.06928\t||∇f(x)||=0.00900\n",
      "stopping criterion reached, stopping now\n",
      "Time elapsed: 0min 45s.\n",
      "\n",
      "K = 5\n",
      "iter 1:  \tf(x) = 4546103.45225\t||∇f(x)||=306140.95882\n",
      "iter 51:  \tf(x) = 13052.84308\t||∇f(x)||=516.83009\n",
      "iter 101:  \tf(x) = 12981.24578\t||∇f(x)||=6.67470\n",
      "iter 151:  \tf(x) = 12981.07533\t||∇f(x)||=0.79077\n",
      "iter 201:  \tf(x) = 12981.06974\t||∇f(x)||=0.19052\n",
      "iter 251:  \tf(x) = 12981.06932\t||∇f(x)||=0.05764\n",
      "iter 301:  \tf(x) = 12981.06928\t||∇f(x)||=0.01922\n",
      "iter 337:  \tf(x) = 12981.06928\t||∇f(x)||=0.00883\n",
      "stopping criterion reached, stopping now\n",
      "Time elapsed: 0min 57s.\n",
      "\n",
      "K = 6\n",
      "iter 1:  \tf(x) = 4860260.42919\t||∇f(x)||=322104.61705\n",
      "iter 51:  \tf(x) = 13347.67546\t||∇f(x)||=820.42483\n",
      "iter 101:  \tf(x) = 12981.71651\t||∇f(x)||=20.08869\n",
      "iter 151:  \tf(x) = 12981.09116\t||∇f(x)||=1.88994\n",
      "iter 201:  \tf(x) = 12981.07113\t||∇f(x)||=0.43168\n",
      "iter 251:  \tf(x) = 12981.06950\t||∇f(x)||=0.13723\n",
      "iter 301:  \tf(x) = 12981.06931\t||∇f(x)||=0.04906\n",
      "iter 351:  \tf(x) = 12981.06928\t||∇f(x)||=0.01954\n",
      "iter 395:  \tf(x) = 12981.06928\t||∇f(x)||=0.00896\n",
      "stopping criterion reached, stopping now\n",
      "Time elapsed: 1min 01s.\n",
      "\n",
      "K = 9\n",
      "iter 1:  \tf(x) = 5312395.89885\t||∇f(x)||=347262.60154\n",
      "iter 51:  \tf(x) = 16304.10960\t||∇f(x)||=2655.24396\n",
      "iter 101:  \tf(x) = 12997.78152\t||∇f(x)||=171.47188\n",
      "iter 151:  \tf(x) = 12981.70138\t||∇f(x)||=16.79948\n",
      "iter 201:  \tf(x) = 12981.13019\t||∇f(x)||=2.99567\n",
      "iter 251:  \tf(x) = 12981.07884\t||∇f(x)||=1.07125\n",
      "iter 301:  \tf(x) = 12981.07119\t||∇f(x)||=0.41891\n",
      "iter 351:  \tf(x) = 12981.06972\t||∇f(x)||=0.18983\n",
      "iter 401:  \tf(x) = 12981.06939\t||∇f(x)||=0.09406\n",
      "iter 451:  \tf(x) = 12981.06931\t||∇f(x)||=0.04864\n",
      "iter 501:  \tf(x) = 12981.06928\t||∇f(x)||=0.02603\n",
      "iter 551:  \tf(x) = 12981.06928\t||∇f(x)||=0.01401\n",
      "iter 589:  \tf(x) = 12981.06928\t||∇f(x)||=0.00897\n",
      "stopping criterion reached, stopping now\n",
      "Time elapsed: 1min 11s.\n",
      "\n"
     ]
    }
   ],
   "source": [
    "# K = 1 <=> classical MMQ algorithm\n",
    "for K in [2, 3, 5, 6, 9]:\n",
    "    print('K =', K)\n",
    "    BMMQ(x0, f, grad_f, Aj, K)\n",
    "    print()"
   ]
  },
  {
   "cell_type": "markdown",
   "metadata": {
    "colab_type": "text",
    "id": "7pXkMdXEo2xS"
   },
   "source": [
    "### 3.5 Parallel MM quadratic algorithm\n",
    "\n",
    "In order to benefit from the multicore structure of modern computer architecture, a parallel form of the MM quadratic algorithm is desirable. However, the quadratic majorizing function defined in Section 3.2 is not separable with respect to the entries of vector $x$ so that its minimization cannot be performed efficiently in a parallel manner. Here, we propose an alternative construction, that possesses a better potential for parallelization.\n",
    "\n",
    "1. For every $x \\in \\RR^N$, let $B(x) \\in \\RR^{N \\times N}$ be a diagonal matrix with elements\n",
    "\n",
    "$$\\begin{equation}\n",
    "\\forall i \\in \\{1, \\dots, N \\}, \\ b^{(i)}(x) = \\HH^\\top \\mathbf{1} + \\lambda \\GG^\\top \\( \\frac{\\phi \\( Gx \\)}{Gx} \\)\n",
    "\\tag{10}\n",
    "\\end{equation}$$\n",
    "\n",
    "with $\\HH \\in \\RR^M$, $\\GG \\in \\RR^{2N}$, and\n",
    "\n",
    "$$\\begin{equation}\n",
    "\\HH^{(m)} = | H^{(m,i)} | \\sum_{p=1}^N | H^{(m,p)} | \\qquad\n",
    "\\text{ and } \\qquad\n",
    "\\GG^{(n)} = | G^{(n,i)} | \\sum_{p=1}^N | G^{(n,p)} |\n",
    "\\tag{11}\n",
    "\\end{equation}$$\n",
    "\n",
    "Prove that, for every $x \\in \\RR^N$, $A(x) \\preceq B(x)$ where $A(·)$ was defined in Section 3.2. Hint : use Jensen’s inequality."
   ]
  },
  {
   "cell_type": "markdown",
   "metadata": {
    "colab_type": "text",
    "id": "bc5ubWA0o2xW"
   },
   "source": [
    "Let $x,y \\in \\RR^N$, let us show that $y^\\top (B(x)-A(x)) y \\geq 0$.\n",
    "\n",
    "For $i \\in \\{1, \\dots, N \\}$, pose:\n",
    "$$b^{(i)}_H(x) = \\HH^\\top \\mathbf{1} \\quad \\text{and} \\quad b^{(i)}_G(x) = \\GG^\\top \\( \\frac{\\phi \\( Gx \\)}{Gx} \\)$$\n",
    "and $B_G(x)$ and $B_H(x)$ the corresponding diagonal matrices.\n",
    "\n",
    "Define\n",
    "$$S_G^{(n)} = \\sum_{p=1}^N | G^{(n,p)} | \\quad \\text{and} \\quad S_H^{(m)} = \\sum_{p=1}^N | H^{(m,p)} |$$\n",
    "\n",
    "Then, for all $m \\in \\{1, \\dots, M \\}$:\n",
    "$$\\begin{aligned}\n",
    "\\( \\sum \\limits_{i=1}^N H^{(m,i)}y^{(i)} \\)^2\n",
    "&\\leq \\( \\sum \\limits_{i=1}^N | H^{(m,i)} | y^{(i)} \\)^2 \\\\\n",
    "&= \\( \\sum \\limits_{i=1}^N \\frac{| H^{(m,i)} |}{S_H^{(m)}} S_H^{(m)} y^{(i)} \\)^2 \\\\\n",
    "&\\leq \\sum \\limits_{i=1}^N \\frac{| H^{(m,i)} |}{S_H^{(m)}} \\( S_H^{(m)} y^{(i)} \\)^2 \\quad \\text{by Jensen inequality} \\\\\n",
    "&= \\sum \\limits_{i=1}^N \\HH^{(m)}_i \\(y^{(i)}\\)^2\n",
    "\\end{aligned}$$\n",
    "\n",
    "By summing for $m \\in \\{1, \\dots, M \\}$, follows that\n",
    "$$y^\\top H^\\top H y \\leq y^\\top B_H(x) y$$\n",
    "\n",
    "Similarly, for all $n \\in \\{1, \\dots, 2N \\}$:\n",
    "$$\\( \\sum \\limits_{i=1}^N G^{(n,i)}y^{(i)} \\)^2 \\leq \\sum \\limits_{i=1}^N \\GG^{(n)}_i \\(y^{(i)}\\)^2$$.\n",
    "\n",
    "Pose $\\phi^{(n)}(x) = \\frac{1}{\\delta^2 \\psi([Gx]^{(n)})}$ et $\\phi(x) = \\text{Diag}(\\phi^{(1)}, \\dots, \\phi^{(2N)})$.\n",
    "\n",
    "$$\\begin{aligned}\n",
    "y^\\top G^\\top \\phi(x) G y\n",
    "&= \\sum \\limits_{n=1}^{2N} \\phi^{(n)}(x) \\( \\sum \\limits_{i=1}^N G^{(n,i)}y^{(i)} \\)^2 \\\\\n",
    "&\\leq \\sum \\limits_{n=1}^{2N} \\sum \\limits_{i=1}^N \\GG^{(n)}_i \\phi^{(n)}(x) \\(y^{(i)}\\)^2 \\\\\n",
    "&= \\sum \\limits_{i=1}^N \\GG^\\top_i \\phi(x) \\(y^{(i)}\\)^2 \\\\\n",
    "&= y^\\top B_G(x) y\n",
    "\\end{aligned}$$\n",
    "\n",
    "Thus, by linearity:\n",
    "$$y^\\top \\( H^\\top H + \\lambda G^\\top \\phi(x) G \\) y \\leq y^\\top \\(B_H(x) + \\lambda B_G(x) \\) y$$\n",
    "i.e.\n",
    "$$y^\\top \\(B(x) - A(x) \\) y \\geq 0$$.\n",
    "\n",
    "Hence $A(x) \\preceq B(x)$.\n",
    "\n"
   ]
  },
  {
   "cell_type": "markdown",
   "metadata": {
    "colab_type": "text",
    "id": "M-F-hXlao2xa"
   },
   "source": [
    "2. Deduce an implementation of a parallel MM quadratic algorithm or minimizing $f$."
   ]
  },
  {
   "cell_type": "code",
   "execution_count": 0,
   "metadata": {
    "colab": {},
    "colab_type": "code",
    "id": "2UdrFKNTo2xf"
   },
   "outputs": [],
   "source": [
    "G_abs, H_abs = np.abs(G), np.abs(H)\n",
    "G_sum = scipy.sparse.diags(G_abs.toarray().sum(axis=1)).tocsc()\n",
    "H_sum = scipy.sparse.diags(H_abs.toarray().sum(axis=1)).tocsc()\n",
    "G_cal, H_cal = G_sum @ G_abs, H_sum @ H_abs\n",
    "H_cal_sum = H_cal.sum(axis=0)\n",
    "\n",
    "def B(x):\n",
    "    # B(x) is stored as a vector instead of a diagonal matrix\n",
    "    return np.asarray(H_cal_sum + coef * G_cal.T @ (1 / psi(G @ x))).squeeze()\n",
    "\n",
    "@exc_time\n",
    "def PMMQ(x0, f, grad_f, B, n_iters=int(1e5), threshold=threshold, lr=1):\n",
    "    fx_lst = [f(x0)]\n",
    "    x = np.copy(x0)\n",
    "    for k in range(n_iters):\n",
    "        x -= lr * 1/B(x) * grad_f(x)\n",
    "        fx_lst.append(f(x))\n",
    "        norm_grad_f = np.linalg.norm(grad_f(x))\n",
    "        stopping = norm_grad_f <= threshold\n",
    "        if k % 200 == 0 or k == n_iters-1 or stopping:\n",
    "            print(\"iter {}:  \\tf(x) = {:.5f}\\t||∇f(x)|| = {:.5f}\".format(k + 1, f(x), norm_grad_f))\n",
    "        if stopping:\n",
    "            print(\"stopping criterion reached, stopping now\")\n",
    "            break\n",
    "    np.save('PMMQ_values.npy', np.array(fx_lst))\n",
    "    return x"
   ]
  },
  {
   "cell_type": "code",
   "execution_count": 42,
   "metadata": {
    "colab": {
     "base_uri": "https://localhost:8080/",
     "height": 434
    },
    "colab_type": "code",
    "id": "yQp61M0QIL81",
    "outputId": "f4d427b6-f9d2-459a-fd5e-c39a4edda687"
   },
   "outputs": [
    {
     "name": "stdout",
     "output_type": "stream",
     "text": [
      "iter 1:  \tf(x) = 547439.64620\t||∇f(x)|| = 85252.41507\n",
      "iter 201:  \tf(x) = 13063.14685\t||∇f(x)|| = 133.43911\n",
      "iter 401:  \tf(x) = 12992.50031\t||∇f(x)|| = 38.92098\n",
      "iter 601:  \tf(x) = 12983.69106\t||∇f(x)|| = 16.99097\n",
      "iter 801:  \tf(x) = 12981.81296\t||∇f(x)|| = 8.41491\n",
      "iter 1001:  \tf(x) = 12981.31571\t||∇f(x)|| = 4.54422\n",
      "iter 1201:  \tf(x) = 12981.16059\t||∇f(x)|| = 2.63914\n",
      "iter 1401:  \tf(x) = 12981.10561\t||∇f(x)|| = 1.61127\n",
      "iter 1601:  \tf(x) = 12981.08445\t||∇f(x)|| = 1.01594\n",
      "iter 1801:  \tf(x) = 12981.07585\t||∇f(x)|| = 0.65531\n",
      "iter 2001:  \tf(x) = 12981.07222\t||∇f(x)|| = 0.43028\n",
      "iter 2201:  \tf(x) = 12981.07063\t||∇f(x)|| = 0.28681\n",
      "iter 2401:  \tf(x) = 12981.06991\t||∇f(x)|| = 0.19376\n",
      "iter 2601:  \tf(x) = 12981.06958\t||∇f(x)|| = 0.13251\n",
      "iter 2801:  \tf(x) = 12981.06943\t||∇f(x)|| = 0.09165\n",
      "iter 3001:  \tf(x) = 12981.06935\t||∇f(x)|| = 0.06405\n",
      "iter 3201:  \tf(x) = 12981.06931\t||∇f(x)|| = 0.04518\n",
      "iter 3401:  \tf(x) = 12981.06929\t||∇f(x)|| = 0.03214\n",
      "iter 3601:  \tf(x) = 12981.06929\t||∇f(x)|| = 0.02304\n",
      "iter 3801:  \tf(x) = 12981.06928\t||∇f(x)|| = 0.01663\n",
      "iter 4001:  \tf(x) = 12981.06928\t||∇f(x)|| = 0.01207\n",
      "iter 4188:  \tf(x) = 12981.06928\t||∇f(x)|| = 0.00899\n",
      "stopping criterion reached, stopping now\n",
      "Time elapsed: 2min 25s.\n"
     ]
    }
   ],
   "source": [
    "x_pmmq = PMMQ(x0, f, grad_f, B)"
   ]
  },
  {
   "cell_type": "code",
   "execution_count": 43,
   "metadata": {
    "colab": {
     "base_uri": "https://localhost:8080/",
     "height": 322
    },
    "colab_type": "code",
    "id": "CyO8A98hh0iV",
    "outputId": "711d0b1b-ae20-4372-ef5b-8580575aba93"
   },
   "outputs": [
    {
     "data": {
      "image/png": "[encoded data removed]",
      "text/plain": [
       "<Figure size 360x360 with 1 Axes>"
      ]
     },
     "metadata": {
      "tags": []
     },
     "output_type": "display_data"
    }
   ],
   "source": [
    "plt.imshow(x_pmmq.reshape(90,90, order='F'))\n",
    "plt.show()"
   ]
  },
  {
   "cell_type": "markdown",
   "metadata": {
    "colab_type": "text",
    "id": "bellQrqpo2xt"
   },
   "source": [
    "### 3.6 Comparison of the methods\n",
    "\n",
    "1. Create a function that computes the value of the criterion $f$ along the iterations of the algorithm."
   ]
  },
  {
   "cell_type": "code",
   "execution_count": 0,
   "metadata": {
    "colab": {},
    "colab_type": "code",
    "id": "qdXAxGPUo2xx"
   },
   "outputs": [],
   "source": [
    "# already implemented in the functions"
   ]
  },
  {
   "cell_type": "markdown",
   "metadata": {
    "colab_type": "text",
    "id": "H96YKMkZo2x-"
   },
   "source": [
    "2. We will consider that the convergence is reached when the following stopping criterion is fulfilled:\n",
    "\n",
    "$$\\begin{equation}\n",
    "\\| \\nabla f (x_k) \\| \\leq \\sqrt{N} \\times 10^{-4}\n",
    "\\tag{12}\n",
    "\\end{equation}$$\n",
    "\n",
    "What is the required time for each method to achieve this condition ? For each method, plot the decrease of $(f(x_k))_{k \\in \\NN}$ versus time until the stopping criterion is satisfied."
   ]
  },
  {
   "cell_type": "code",
   "execution_count": 44,
   "metadata": {
    "colab": {
     "base_uri": "https://localhost:8080/",
     "height": 350
    },
    "colab_type": "code",
    "id": "dTaWjqqwo2yC",
    "outputId": "c40583af-e09f-44bf-87f0-08b3388c548c"
   },
   "outputs": [
    {
     "data": {
      "image/png": "[encoded data removed]",
      "text/plain": [
       "<Figure size 360x360 with 1 Axes>"
      ]
     },
     "metadata": {
      "tags": []
     },
     "output_type": "display_data"
    }
   ],
   "source": [
    "for algo in ['GD','MMQ','MMMG','BMMQ','PMMQ']:\n",
    "    try:\n",
    "        d = np.load(algo+'_time.npy')\n",
    "        f_list = np.load(algo+'_values.npy')\n",
    "    except OSError:\n",
    "        continue\n",
    "    t_list = np.linspace(0, d, len(f_list))\n",
    "    plt.plot(t_list, f_list, label=algo)\n",
    "plt.legend()\n",
    "plt.title('Convergence speed of different algorithms')\n",
    "plt.xlabel('Time (s)')\n",
    "plt.ylabel('f(x)')\n",
    "plt.xlim(0, 120)\n",
    "plt.ylim(f_list[-1]-1, f_list[-1]+10)\n",
    "plt.show()"
   ]
  },
  {
   "cell_type": "markdown",
   "metadata": {
    "colab_type": "text",
    "id": "n-2JY8BTo2yX"
   },
   "source": [
    "3. The Signal to Noise Ration (SNR) of a restored image $\\widehat{x}$ is defined as\n",
    "\n",
    "$$\\begin{equation}\n",
    "\\text{SNR} = 10 \\log_{10} \\( \\frac{\\|\\bar{x}\\|^2}{\\| \\bar{x} - \\widehat{x} \\|^2} \\)\n",
    "\\tag{13}\n",
    "\\end{equation}$$\n",
    "\n",
    "Using the fastest method, search for parameters $(\\lambda, \\delta)$ that optimize the SNR."
   ]
  },
  {
   "cell_type": "code",
   "execution_count": 0,
   "metadata": {
    "colab": {},
    "colab_type": "code",
    "id": "tcqCez2Lo2yc"
   },
   "outputs": [],
   "source": [
    "psi2 = lambda u, delta: np.sqrt(1 + (u/delta)**2)\n",
    "\n",
    "def grad_f2(x, lbda, delta):\n",
    "    Gx = G @ x\n",
    "    grad = Gx / psi(Gx) @ G\n",
    "    return H.T @ (H @ x - y) + lbda/(delta**2) * grad\n",
    "\n",
    "def MMMG_quiet(x0, grad_f, lbda, delta, n_iters=int(1e5), threshold=threshold, lr=1):\n",
    "    start = time.time()\n",
    "    x = np.copy(x0)\n",
    "    D = - grad_f(x, lbda, delta)[:,np.newaxis]\n",
    "    xprev = np.copy(x)    \n",
    "    for k in range(n_iters):\n",
    "        grad = grad_f(x, lbda, delta)\n",
    "        HD = H @ D\n",
    "        GD = G @ D\n",
    "        DAD = HD.T @ HD + coef * GD.T @ scipy.sparse.diags(1 / psi2(G @ x, delta)).tocsc() @ GD\n",
    "        # avoid dimensions errors on first iteration\n",
    "        if DAD.ndim == 0:\n",
    "            DAD = DAD.reshape(1,1)\n",
    "        u = -scipy.linalg.pinv(DAD) @ D.T @ grad\n",
    "        x += D @ u\n",
    "        norm_grad = np.linalg.norm(grad)\n",
    "        if norm_grad < threshold or time.time()-start > 60:\n",
    "            break        \n",
    "        D = - np.vstack((grad, x - xprev)).T\n",
    "        xprev = np.copy(x)\n",
    "    return x\n",
    "\n",
    "SNR = lambda x: 10*np.log10(np.sum(xbar**2)/np.sum((x-xbar)**2))"
   ]
  },
  {
   "cell_type": "code",
   "execution_count": 45,
   "metadata": {
    "colab": {
     "base_uri": "https://localhost:8080/",
     "height": 1000
    },
    "colab_type": "code",
    "id": "ePEbeJnSn6Gc",
    "outputId": "c8e0e142-d646-4f1f-8bdf-7ed1cb31bbe5"
   },
   "outputs": [
    {
     "name": "stdout",
     "output_type": "stream",
     "text": [
      "λ = 0.1  \tδ = 0.01\tSNR: -14.12344\n",
      "λ = 0.1  \tδ = 0.02\tSNR: 18.96083\n",
      "λ = 0.1  \tδ = 0.03\tSNR: 17.03969\n",
      "λ = 0.1  \tδ = 0.04\tSNR: 14.49281\n",
      "λ = 0.1  \tδ = 0.05\tSNR: 12.60176\n",
      "λ = 0.1  \tδ = 0.06\tSNR: 11.22490\n",
      "λ = 0.1  \tδ = 0.07\tSNR: 10.15099\n",
      "λ = 0.1  \tδ = 0.08\tSNR: 9.23751\n",
      "λ = 0.1  \tδ = 0.09\tSNR: 8.47871\n",
      "λ = 0.1  \tδ = 0.10\tSNR: 7.86986\n",
      "λ = 0.2  \tδ = 0.01\tSNR: -31.95293\n",
      "λ = 0.2  \tδ = 0.02\tSNR: 18.76065\n",
      "λ = 0.2  \tδ = 0.03\tSNR: 18.85268\n",
      "λ = 0.2  \tδ = 0.04\tSNR: 17.48778\n",
      "λ = 0.2  \tδ = 0.05\tSNR: 15.61250\n",
      "λ = 0.2  \tδ = 0.06\tSNR: 13.97268\n",
      "λ = 0.2  \tδ = 0.07\tSNR: 12.68265\n",
      "λ = 0.2  \tδ = 0.08\tSNR: 11.65305\n",
      "λ = 0.2  \tδ = 0.09\tSNR: 10.81074\n",
      "λ = 0.2  \tδ = 0.10\tSNR: 10.09498\n",
      "λ = 0.3  \tδ = 0.01\tSNR: 10.58285\n",
      "λ = 0.3  \tδ = 0.02\tSNR: 18.07838\n",
      "λ = 0.3  \tδ = 0.03\tSNR: 19.03839\n",
      "λ = 0.3  \tδ = 0.04\tSNR: 18.60312\n",
      "λ = 0.3  \tδ = 0.05\tSNR: 17.33763\n",
      "λ = 0.3  \tδ = 0.06\tSNR: 15.79818\n",
      "λ = 0.3  \tδ = 0.07\tSNR: 14.40086\n",
      "λ = 0.3  \tδ = 0.08\tSNR: 13.24876\n",
      "λ = 0.3  \tδ = 0.09\tSNR: 12.29839\n",
      "λ = 0.3  \tδ = 0.10\tSNR: 11.50470\n",
      "λ = 0.4  \tδ = 0.01\tSNR: -45.17901\n",
      "λ = 0.4  \tδ = 0.02\tSNR: 14.77619\n",
      "λ = 0.4  \tδ = 0.03\tSNR: 18.88376\n",
      "λ = 0.4  \tδ = 0.04\tSNR: 18.96077\n",
      "λ = 0.4  \tδ = 0.05\tSNR: 18.25548\n",
      "λ = 0.4  \tδ = 0.06\tSNR: 17.03974\n",
      "λ = 0.4  \tδ = 0.07\tSNR: 15.70453\n",
      "λ = 0.4  \tδ = 0.08\tSNR: 14.49291\n",
      "λ = 0.4  \tδ = 0.09\tSNR: 13.46749\n",
      "λ = 0.4  \tδ = 0.10\tSNR: 12.60176\n",
      "λ = 0.5  \tδ = 0.01\tSNR: -51.16907\n",
      "λ = 0.5  \tδ = 0.02\tSNR: -28.66415\n",
      "λ = 0.5  \tδ = 0.03\tSNR: 18.62154\n",
      "λ = 0.5  \tδ = 0.04\tSNR: 19.04249\n",
      "λ = 0.5  \tδ = 0.05\tSNR: 18.71200\n",
      "λ = 0.5  \tδ = 0.06\tSNR: 17.84698\n",
      "λ = 0.5  \tδ = 0.07\tSNR: 16.69021\n",
      "λ = 0.5  \tδ = 0.08\tSNR: 15.50438\n",
      "λ = 0.5  \tδ = 0.09\tSNR: 14.43742\n",
      "λ = 0.5  \tδ = 0.10\tSNR: 13.52003\n",
      "λ = 0.6  \tδ = 0.01\tSNR: -49.53261\n",
      "λ = 0.6  \tδ = 0.02\tSNR: -24.30520\n",
      "λ = 0.6  \tδ = 0.03\tSNR: 18.31613\n",
      "λ = 0.6  \tδ = 0.04\tSNR: 19.00100\n",
      "λ = 0.6  \tδ = 0.05\tSNR: 18.92877\n",
      "λ = 0.6  \tδ = 0.06\tSNR: 18.35622\n",
      "λ = 0.6  \tδ = 0.07\tSNR: 17.41269\n",
      "λ = 0.6  \tδ = 0.08\tSNR: 16.32528\n",
      "λ = 0.6  \tδ = 0.09\tSNR: 15.26145\n",
      "λ = 0.6  \tδ = 0.10\tSNR: 14.31109\n",
      "λ = 0.7  \tδ = 0.01\tSNR: -54.51869\n",
      "λ = 0.7  \tδ = 0.02\tSNR: 14.78876\n",
      "λ = 0.7  \tδ = 0.03\tSNR: 17.99938\n",
      "λ = 0.7  \tδ = 0.04\tSNR: 18.89764\n",
      "λ = 0.7  \tδ = 0.05\tSNR: 19.02146\n",
      "λ = 0.7  \tδ = 0.06\tSNR: 18.66672\n",
      "λ = 0.7  \tδ = 0.07\tSNR: 17.93541\n",
      "λ = 0.7  \tδ = 0.08\tSNR: 16.97660\n",
      "λ = 0.7  \tδ = 0.09\tSNR: 15.96269\n",
      "λ = 0.7  \tδ = 0.10\tSNR: 15.00398\n",
      "λ = 0.8  \tδ = 0.01\tSNR: -54.49386\n",
      "λ = 0.8  \tδ = 0.02\tSNR: -28.54542\n",
      "λ = 0.8  \tδ = 0.03\tSNR: 17.68855\n",
      "λ = 0.8  \tδ = 0.04\tSNR: 18.76066\n",
      "λ = 0.8  \tδ = 0.05\tSNR: 19.04240\n",
      "λ = 0.8  \tδ = 0.06\tSNR: 18.85267\n",
      "λ = 0.8  \tδ = 0.07\tSNR: 18.30635\n",
      "λ = 0.8  \tδ = 0.08\tSNR: 17.48782\n",
      "λ = 0.8  \tδ = 0.09\tSNR: 16.55150\n",
      "λ = 0.8  \tδ = 0.10\tSNR: 15.61254\n",
      "λ = 0.9  \tδ = 0.01\tSNR: -52.79036\n",
      "λ = 0.9  \tδ = 0.02\tSNR: -30.87690\n",
      "λ = 0.9  \tδ = 0.03\tSNR: 17.05198\n",
      "λ = 0.9  \tδ = 0.04\tSNR: 18.60332\n",
      "λ = 0.9  \tδ = 0.05\tSNR: 19.01821\n",
      "λ = 0.9  \tδ = 0.06\tSNR: 18.96082\n",
      "λ = 0.9  \tδ = 0.07\tSNR: 18.56454\n",
      "λ = 0.9  \tδ = 0.08\tSNR: 17.88640\n",
      "λ = 0.9  \tδ = 0.09\tSNR: 17.03977\n",
      "λ = 0.9  \tδ = 0.10\tSNR: 16.14463\n",
      "λ = 1.0  \tδ = 0.01\tSNR: -54.39199\n",
      "λ = 1.0  \tδ = 0.02\tSNR: 13.35210\n",
      "λ = 1.0  \tδ = 0.03\tSNR: -15.09327\n",
      "λ = 1.0  \tδ = 0.04\tSNR: 18.43339\n",
      "λ = 1.0  \tδ = 0.05\tSNR: 18.96499\n",
      "λ = 1.0  \tδ = 0.06\tSNR: 19.01848\n",
      "λ = 1.0  \tδ = 0.07\tSNR: 18.74249\n",
      "λ = 1.0  \tδ = 0.08\tSNR: 18.19343\n",
      "λ = 1.0  \tδ = 0.09\tSNR: 17.44274\n",
      "λ = 1.0  \tδ = 0.10\tSNR: 16.60464\n"
     ]
    }
   ],
   "source": [
    "lambda_values = np.linspace(0.1, 1, 10)\n",
    "delta_values = np.linspace(0.01, 0.1, 10)\n",
    "\n",
    "for l in lambda_values:\n",
    "    for d in delta_values:\n",
    "        print('λ = {:.1f}  \\tδ = {:.2f}'.format(l, d), end='\\t')\n",
    "        x_hat = MMMG_quiet(x0, grad_f2, l, d)\n",
    "        print('SNR: {:.5f}'.format(SNR(x_hat)))"
   ]
  },
  {
   "cell_type": "code",
   "execution_count": 47,
   "metadata": {
    "colab": {
     "base_uri": "https://localhost:8080/",
     "height": 208
    },
    "colab_type": "code",
    "id": "8DwkH_8Jny50",
    "outputId": "7a2b73e0-8618-4282-c396-f725b1cfc3bd"
   },
   "outputs": [
    {
     "name": "stdout",
     "output_type": "stream",
     "text": [
      "λ = 0.45  \tδ = 0.04\tSNR: 19.02300\n",
      "λ = 0.46  \tδ = 0.04\tSNR: 19.02983\n",
      "λ = 0.47  \tδ = 0.04\tSNR: 19.03507\n",
      "λ = 0.48  \tδ = 0.04\tSNR: 19.03885\n",
      "λ = 0.49  \tδ = 0.04\tSNR: 19.04133\n",
      "λ = 0.50  \tδ = 0.04\tSNR: 19.04256\n",
      "λ = 0.51  \tδ = 0.04\tSNR: 19.04253\n",
      "λ = 0.52  \tδ = 0.04\tSNR: 19.04140\n",
      "λ = 0.53  \tδ = 0.04\tSNR: 19.03931\n",
      "λ = 0.54  \tδ = 0.04\tSNR: 19.03625\n",
      "λ = 0.55  \tδ = 0.04\tSNR: 19.03224\n"
     ]
    }
   ],
   "source": [
    "lambda_values = np.linspace(0.45, 0.55, 11)\n",
    "delta_values = [0.04]\n",
    "\n",
    "for l in lambda_values:\n",
    "    for d in delta_values:\n",
    "        print('λ = {:.2f}  \\tδ = {:.2f}'.format(l, d), end='\\t')\n",
    "        x_hat = MMMG_quiet(x0, grad_f2, l, d)\n",
    "        print('SNR: {:.5f}'.format(SNR(x_hat)))"
   ]
  },
  {
   "cell_type": "markdown",
   "metadata": {
    "colab_type": "text",
    "id": "T2yvEONqxjAx"
   },
   "source": [
    "It seems that choosing $\\lambda = 0.5$ and $\\delta = 0.04$ optimizes the SNR."
   ]
  },
  {
   "cell_type": "code",
   "execution_count": 0,
   "metadata": {
    "colab": {},
    "colab_type": "code",
    "id": "2QrzDErBxmFK"
   },
   "outputs": [],
   "source": []
  }
 ],
 "metadata": {
  "accelerator": "GPU",
  "colab": {
   "collapsed_sections": [],
   "name": "LSD_TPn3_Lichtle_Riou_SanRoman.ipynb",
   "provenance": [],
   "toc_visible": true
  },
  "kernelspec": {
   "display_name": "Python 3",
   "language": "python",
   "name": "python3"
  },
  "language_info": {
   "codemirror_mode": {
    "name": "ipython",
    "version": 3
   },
   "file_extension": ".py",
   "mimetype": "text/x-python",
   "name": "python",
   "nbconvert_exporter": "python",
   "pygments_lexer": "ipython3",
   "version": "3.6.9"
  }
 },
 "nbformat": 4,
 "nbformat_minor": 1
}
